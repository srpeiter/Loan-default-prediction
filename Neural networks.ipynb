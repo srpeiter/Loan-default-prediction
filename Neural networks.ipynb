{
 "cells": [
  {
   "cell_type": "code",
   "execution_count": 1,
   "id": "8b90c47a",
   "metadata": {},
   "outputs": [
    {
     "name": "stdout",
     "output_type": "stream",
     "text": [
      "[8.48313684, -2.38187395, -1.31959815]\n"
     ]
    }
   ],
   "source": [
    "inputs = [1, 2, 3, 4] # four inputs\n",
    "# weights is a 3x4 array -> 3 neurons, 4 weights associated to each connection\n",
    "weights = [[ 0.74864643, -1.00722027,  1.45983017,  1.34236011],\n",
    "           [-1.20116017, -0.08884298, -0.46555646,  0.02341039],\n",
    "           [-0.30973958,  0.89235565, -0.92841053,  0.12266543]]\n",
    "biases = [0, 0.3, -0.5] # each neuron has a bias\n",
    "\n",
    "layer_outputs = [] # we create the list that will contain the results of the processing of the neurons of the layer\n",
    "# for each neuron\n",
    "for neuron_weights, neuron_bias in zip(weights, biases):\n",
    "    # initialize output to 0\n",
    "    neuron_output = 0\n",
    "    # for each input and weight\n",
    "    for n_input, weight in zip(inputs, neuron_weights):\n",
    "        # multiply input and weight and add it to the output\n",
    "        neuron_output += n_input * weight\n",
    "    # add bias to the output\n",
    "    neuron_output += neuron_bias\n",
    "    # add the neuron result to the layer\n",
    "    layer_outputs.append(neuron_output)\n",
    "\n",
    "print(layer_outputs) # print the result"
   ]
  },
  {
   "cell_type": "code",
   "execution_count": null,
   "id": "9f317443",
   "metadata": {},
   "outputs": [],
   "source": []
  }
 ],
 "metadata": {
  "hide_input": false,
  "kernelspec": {
   "display_name": "Python 3 (ipykernel)",
   "language": "python",
   "name": "python3"
  },
  "language_info": {
   "codemirror_mode": {
    "name": "ipython",
    "version": 3
   },
   "file_extension": ".py",
   "mimetype": "text/x-python",
   "name": "python",
   "nbconvert_exporter": "python",
   "pygments_lexer": "ipython3",
   "version": "3.8.12"
  },
  "toc": {
   "base_numbering": 1,
   "nav_menu": {},
   "number_sections": true,
   "sideBar": true,
   "skip_h1_title": false,
   "title_cell": "Table of Contents",
   "title_sidebar": "Contents",
   "toc_cell": false,
   "toc_position": {},
   "toc_section_display": true,
   "toc_window_display": false
  },
  "varInspector": {
   "cols": {
    "lenName": 16,
    "lenType": 16,
    "lenVar": 40
   },
   "kernels_config": {
    "python": {
     "delete_cmd_postfix": "",
     "delete_cmd_prefix": "del ",
     "library": "var_list.py",
     "varRefreshCmd": "print(var_dic_list())"
    },
    "r": {
     "delete_cmd_postfix": ") ",
     "delete_cmd_prefix": "rm(",
     "library": "var_list.r",
     "varRefreshCmd": "cat(var_dic_list()) "
    }
   },
   "types_to_exclude": [
    "module",
    "function",
    "builtin_function_or_method",
    "instance",
    "_Feature"
   ],
   "window_display": false
  }
 },
 "nbformat": 4,
 "nbformat_minor": 5
}
